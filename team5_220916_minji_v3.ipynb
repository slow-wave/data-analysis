{
  "cells": [
    {
      "cell_type": "code",
      "execution_count": 3,
      "metadata": {
        "id": "TchnOzZpMI9f"
      },
      "outputs": [],
      "source": [
        "import os\n",
        "\n",
        "import pandas as pd\n",
        "import geopy.distance\n",
        "import numpy as np\n",
        "from sklearn.preprocessing import MinMaxScaler\n",
        "from sklearn.metrics import mean_squared_error\n",
        "from sklearn.model_selection import train_test_split\n",
        "\n",
        "from sklearn.ensemble import RandomForestRegressor\n",
        "from sklearn.model_selection import GridSearchCV\n",
        "from sklearn.metrics import make_scorer\n",
        "from sklearn.linear_model import LinearRegression\n",
        "from sklearn.model_selection import cross_val_score\n",
        "from sklearn.ensemble import GradientBoostingRegressor\n",
        "import xgboost as xg\n",
        "\n",
        "import warnings\n",
        "\n",
        "warnings.filterwarnings('ignore')\n",
        "\n",
        "# path = '/content/drive/MyDrive/Colab Notebooks/bootcourse/project/data/'\n",
        "path = '/Users/minji/Desktop/data/229255_bus_riders_at_rush_hour_data/'"
      ]
    },
    {
      "cell_type": "markdown",
      "metadata": {
        "id": "TGTwYbTeOneU"
      },
      "source": [
        "# 0. 데이터 불러오기"
      ]
    },
    {
      "cell_type": "code",
      "execution_count": 6,
      "metadata": {
        "colab": {
          "base_uri": "https://localhost:8080/",
          "height": 473
        },
        "id": "hJVZfXGdLrvf",
        "outputId": "4b54d5f1-9d3b-4d4a-803f-79d9694d6467"
      },
      "outputs": [
        {
          "data": {
            "text/html": [
              "<div>\n",
              "<style scoped>\n",
              "    .dataframe tbody tr th:only-of-type {\n",
              "        vertical-align: middle;\n",
              "    }\n",
              "\n",
              "    .dataframe tbody tr th {\n",
              "        vertical-align: top;\n",
              "    }\n",
              "\n",
              "    .dataframe thead th {\n",
              "        text-align: right;\n",
              "    }\n",
              "</style>\n",
              "<table border=\"1\" class=\"dataframe\">\n",
              "  <thead>\n",
              "    <tr style=\"text-align: right;\">\n",
              "      <th></th>\n",
              "      <th>id</th>\n",
              "      <th>date</th>\n",
              "      <th>bus_route_id</th>\n",
              "      <th>in_out</th>\n",
              "      <th>station_code</th>\n",
              "      <th>station_name</th>\n",
              "      <th>latitude</th>\n",
              "      <th>longitude</th>\n",
              "      <th>6~7_ride</th>\n",
              "      <th>7~8_ride</th>\n",
              "      <th>...</th>\n",
              "      <th>9~10_ride</th>\n",
              "      <th>10~11_ride</th>\n",
              "      <th>11~12_ride</th>\n",
              "      <th>6~7_takeoff</th>\n",
              "      <th>7~8_takeoff</th>\n",
              "      <th>8~9_takeoff</th>\n",
              "      <th>9~10_takeoff</th>\n",
              "      <th>10~11_takeoff</th>\n",
              "      <th>11~12_takeoff</th>\n",
              "      <th>18~20_ride</th>\n",
              "    </tr>\n",
              "  </thead>\n",
              "  <tbody>\n",
              "    <tr>\n",
              "      <th>0</th>\n",
              "      <td>0</td>\n",
              "      <td>2019-09-01</td>\n",
              "      <td>4270000</td>\n",
              "      <td>시외</td>\n",
              "      <td>344</td>\n",
              "      <td>제주썬호텔</td>\n",
              "      <td>33.48990</td>\n",
              "      <td>126.49373</td>\n",
              "      <td>0.0</td>\n",
              "      <td>1.0</td>\n",
              "      <td>...</td>\n",
              "      <td>5.0</td>\n",
              "      <td>2.0</td>\n",
              "      <td>6.0</td>\n",
              "      <td>0.0</td>\n",
              "      <td>0.0</td>\n",
              "      <td>0.0</td>\n",
              "      <td>0.0</td>\n",
              "      <td>0.0</td>\n",
              "      <td>0.0</td>\n",
              "      <td>0.0</td>\n",
              "    </tr>\n",
              "    <tr>\n",
              "      <th>1</th>\n",
              "      <td>1</td>\n",
              "      <td>2019-09-01</td>\n",
              "      <td>4270000</td>\n",
              "      <td>시외</td>\n",
              "      <td>357</td>\n",
              "      <td>한라병원</td>\n",
              "      <td>33.48944</td>\n",
              "      <td>126.48508</td>\n",
              "      <td>1.0</td>\n",
              "      <td>4.0</td>\n",
              "      <td>...</td>\n",
              "      <td>2.0</td>\n",
              "      <td>5.0</td>\n",
              "      <td>6.0</td>\n",
              "      <td>0.0</td>\n",
              "      <td>0.0</td>\n",
              "      <td>0.0</td>\n",
              "      <td>0.0</td>\n",
              "      <td>0.0</td>\n",
              "      <td>0.0</td>\n",
              "      <td>5.0</td>\n",
              "    </tr>\n",
              "    <tr>\n",
              "      <th>2</th>\n",
              "      <td>2</td>\n",
              "      <td>2019-09-01</td>\n",
              "      <td>4270000</td>\n",
              "      <td>시외</td>\n",
              "      <td>432</td>\n",
              "      <td>정존마을</td>\n",
              "      <td>33.48181</td>\n",
              "      <td>126.47352</td>\n",
              "      <td>1.0</td>\n",
              "      <td>1.0</td>\n",
              "      <td>...</td>\n",
              "      <td>2.0</td>\n",
              "      <td>0.0</td>\n",
              "      <td>0.0</td>\n",
              "      <td>0.0</td>\n",
              "      <td>0.0</td>\n",
              "      <td>0.0</td>\n",
              "      <td>0.0</td>\n",
              "      <td>0.0</td>\n",
              "      <td>0.0</td>\n",
              "      <td>2.0</td>\n",
              "    </tr>\n",
              "    <tr>\n",
              "      <th>3</th>\n",
              "      <td>3</td>\n",
              "      <td>2019-09-01</td>\n",
              "      <td>4270000</td>\n",
              "      <td>시내</td>\n",
              "      <td>1579</td>\n",
              "      <td>제주국제공항(600번)</td>\n",
              "      <td>33.50577</td>\n",
              "      <td>126.49252</td>\n",
              "      <td>0.0</td>\n",
              "      <td>17.0</td>\n",
              "      <td>...</td>\n",
              "      <td>26.0</td>\n",
              "      <td>14.0</td>\n",
              "      <td>16.0</td>\n",
              "      <td>0.0</td>\n",
              "      <td>0.0</td>\n",
              "      <td>0.0</td>\n",
              "      <td>0.0</td>\n",
              "      <td>0.0</td>\n",
              "      <td>0.0</td>\n",
              "      <td>53.0</td>\n",
              "    </tr>\n",
              "    <tr>\n",
              "      <th>4</th>\n",
              "      <td>4</td>\n",
              "      <td>2019-09-01</td>\n",
              "      <td>4270000</td>\n",
              "      <td>시내</td>\n",
              "      <td>1646</td>\n",
              "      <td>중문관광단지입구</td>\n",
              "      <td>33.25579</td>\n",
              "      <td>126.41260</td>\n",
              "      <td>0.0</td>\n",
              "      <td>0.0</td>\n",
              "      <td>...</td>\n",
              "      <td>0.0</td>\n",
              "      <td>0.0</td>\n",
              "      <td>0.0</td>\n",
              "      <td>0.0</td>\n",
              "      <td>0.0</td>\n",
              "      <td>0.0</td>\n",
              "      <td>1.0</td>\n",
              "      <td>0.0</td>\n",
              "      <td>0.0</td>\n",
              "      <td>0.0</td>\n",
              "    </tr>\n",
              "  </tbody>\n",
              "</table>\n",
              "<p>5 rows × 21 columns</p>\n",
              "</div>"
            ],
            "text/plain": [
              "   id        date  bus_route_id in_out  station_code  station_name  latitude  \\\n",
              "0   0  2019-09-01       4270000     시외           344         제주썬호텔  33.48990   \n",
              "1   1  2019-09-01       4270000     시외           357          한라병원  33.48944   \n",
              "2   2  2019-09-01       4270000     시외           432          정존마을  33.48181   \n",
              "3   3  2019-09-01       4270000     시내          1579  제주국제공항(600번)  33.50577   \n",
              "4   4  2019-09-01       4270000     시내          1646      중문관광단지입구  33.25579   \n",
              "\n",
              "   longitude  6~7_ride  7~8_ride  ...  9~10_ride  10~11_ride  11~12_ride  \\\n",
              "0  126.49373       0.0       1.0  ...        5.0         2.0         6.0   \n",
              "1  126.48508       1.0       4.0  ...        2.0         5.0         6.0   \n",
              "2  126.47352       1.0       1.0  ...        2.0         0.0         0.0   \n",
              "3  126.49252       0.0      17.0  ...       26.0        14.0        16.0   \n",
              "4  126.41260       0.0       0.0  ...        0.0         0.0         0.0   \n",
              "\n",
              "   6~7_takeoff  7~8_takeoff  8~9_takeoff  9~10_takeoff  10~11_takeoff  \\\n",
              "0          0.0          0.0          0.0           0.0            0.0   \n",
              "1          0.0          0.0          0.0           0.0            0.0   \n",
              "2          0.0          0.0          0.0           0.0            0.0   \n",
              "3          0.0          0.0          0.0           0.0            0.0   \n",
              "4          0.0          0.0          0.0           1.0            0.0   \n",
              "\n",
              "   11~12_takeoff  18~20_ride  \n",
              "0            0.0         0.0  \n",
              "1            0.0         5.0  \n",
              "2            0.0         2.0  \n",
              "3            0.0        53.0  \n",
              "4            0.0         0.0  \n",
              "\n",
              "[5 rows x 21 columns]"
            ]
          },
          "execution_count": 6,
          "metadata": {},
          "output_type": "execute_result"
        }
      ],
      "source": [
        "train = pd.read_csv(path + \"train.csv\")\n",
        "test = pd.read_csv(path + \"test.csv\")\n",
        "bus_bts = pd.read_csv(path + \"bus_bts.csv\")\n",
        "\n",
        "train.head()"
      ]
    },
    {
      "cell_type": "markdown",
      "metadata": {
        "id": "EL87rk2xMdb_"
      },
      "source": [
        "# 1. 전처리"
      ]
    },
    {
      "cell_type": "markdown",
      "metadata": {
        "id": "mxBBC0UoNU9x"
      },
      "source": [
        "##1) date 변수 변환\n",
        "- weekday 추출\n",
        "- weekday one-hot-encoding"
      ]
    },
    {
      "cell_type": "code",
      "execution_count": 7,
      "metadata": {
        "colab": {
          "base_uri": "https://localhost:8080/"
        },
        "id": "I1dnVDvMrp7o",
        "outputId": "04318793-a3ae-46e3-a59c-417735034396"
      },
      "outputs": [
        {
          "data": {
            "text/plain": [
              "Index(['id', 'date', 'bus_route_id', 'in_out', 'station_code', 'station_name',\n",
              "       'latitude', 'longitude', '6~7_ride', '7~8_ride', '8~9_ride',\n",
              "       '9~10_ride', '10~11_ride', '11~12_ride', '6~7_takeoff', '7~8_takeoff',\n",
              "       '8~9_takeoff', '9~10_takeoff', '10~11_takeoff', '11~12_takeoff',\n",
              "       '18~20_ride'],\n",
              "      dtype='object')"
            ]
          },
          "execution_count": 7,
          "metadata": {},
          "output_type": "execute_result"
        }
      ],
      "source": [
        "train.columns"
      ]
    },
    {
      "cell_type": "code",
      "execution_count": 8,
      "metadata": {
        "id": "1oOpfvuXMO4x"
      },
      "outputs": [],
      "source": [
        "train['date'] = pd.to_datetime(train['date'])\n",
        "\n",
        "# weekday 추출\n",
        "train['weekday'] = train['date'].dt.weekday\n",
        "\n",
        "# one-hot-encoding\n",
        "train = pd.get_dummies(train, columns = ['weekday'])"
      ]
    },
    {
      "cell_type": "code",
      "execution_count": 9,
      "metadata": {
        "id": "yuyInmoXMtWc"
      },
      "outputs": [],
      "source": [
        "#test도 동일한 전처리 진행\n",
        "test['date'] = pd.to_datetime(test['date'])\n",
        "test['weekday'] = test['date'].dt.weekday\n",
        "test = pd.get_dummies(test,columns = ['weekday'])"
      ]
    },
    {
      "cell_type": "markdown",
      "metadata": {
        "id": "yM4bpmKvOJF-"
      },
      "source": [
        "## 2) in_out 변수 변환\n"
      ]
    },
    {
      "cell_type": "code",
      "execution_count": 10,
      "metadata": {
        "colab": {
          "base_uri": "https://localhost:8080/"
        },
        "id": "ZGG4Z6W2N3ql",
        "outputId": "98439e2e-f956-4291-b2f3-fb285ccdb6d2"
      },
      "outputs": [
        {
          "data": {
            "text/plain": [
              "시내    408500\n",
              "시외      6923\n",
              "Name: in_out, dtype: int64"
            ]
          },
          "execution_count": 10,
          "metadata": {},
          "output_type": "execute_result"
        }
      ],
      "source": [
        "#시내인 경우가 월등히 많음\n",
        "train['in_out'].value_counts()"
      ]
    },
    {
      "cell_type": "code",
      "execution_count": 11,
      "metadata": {
        "id": "7HAcCJxsOP8X"
      },
      "outputs": [],
      "source": [
        "#in_out 변수 one-hot-encoding\n",
        "train['in_out'] = train['in_out'].map({'시내':0,'시외':1})\n",
        "test['in_out'] = test['in_out'].map({'시내':0,'시외':1})"
      ]
    },
    {
      "cell_type": "markdown",
      "metadata": {
        "id": "t5ydqMt-OpS4"
      },
      "source": [
        "## 3) 좌표 데이터 feature engineering\n",
        "\n",
        "dis_jejusi : 버스정류장과 제주시와의 거리\n",
        "\n",
        "dis_seoquipo : 버스정류장과 서귀포시와의 거리\n",
        "\n",
        "제주시의 위.경도 : 33.500770, 126.522761\n",
        "\n",
        "서귀포시의 위.경도 : 33.259429, 126.558217"
      ]
    },
    {
      "cell_type": "code",
      "execution_count": null,
      "metadata": {
        "id": "oOfVtKn3O3AE"
      },
      "outputs": [],
      "source": [
        "coords_jejusi = (33.500770, 126.522761) #제주시의 위도 경도\n",
        "coords_seoquipo = (33.259429, 126.558217) #서귀포시의 위도 경도\n",
        "\n",
        "test['dis_jeju'] = [geopy.distance.geodesic((test['latitude'].iloc[i],test['longitude'].iloc[i]), coords_jejusi).km for i in range(len(test))]\n",
        "test['dis_seogwipo'] = [geopy.distance.geodesic((test['latitude'].iloc[i],test['longitude'].iloc[i]), coords_seoquipo).km for i in range(len(test))]"
      ]
    },
    {
      "cell_type": "code",
      "execution_count": null,
      "metadata": {
        "id": "3F71vXJHQNws"
      },
      "outputs": [],
      "source": [
        "train['dis_jeju'] = [geopy.distance.geodesic((train['latitude'].iloc[i],train['longitude'].iloc[i]), coords_jejusi).km for i in range(len(train))]\n",
        "train['dis_seogwipo'] = [geopy.distance.geodesic((train['latitude'].iloc[i],train['longitude'].iloc[i]), coords_seoquipo).km for i in range(len(train))]"
      ]
    },
    {
      "cell_type": "code",
      "execution_count": null,
      "metadata": {
        "colab": {
          "base_uri": "https://localhost:8080/",
          "height": 473
        },
        "id": "O3ey8QGX-Q3x",
        "outputId": "308520b2-7276-419b-f192-860c163bd13c"
      },
      "outputs": [
        {
          "data": {
            "text/html": [
              "\n",
              "  <div id=\"df-24964d29-e003-4596-b416-b6d44486fe58\">\n",
              "    <div class=\"colab-df-container\">\n",
              "      <div>\n",
              "<style scoped>\n",
              "    .dataframe tbody tr th:only-of-type {\n",
              "        vertical-align: middle;\n",
              "    }\n",
              "\n",
              "    .dataframe tbody tr th {\n",
              "        vertical-align: top;\n",
              "    }\n",
              "\n",
              "    .dataframe thead th {\n",
              "        text-align: right;\n",
              "    }\n",
              "</style>\n",
              "<table border=\"1\" class=\"dataframe\">\n",
              "  <thead>\n",
              "    <tr style=\"text-align: right;\">\n",
              "      <th></th>\n",
              "      <th>id</th>\n",
              "      <th>date</th>\n",
              "      <th>bus_route_id</th>\n",
              "      <th>in_out</th>\n",
              "      <th>station_code</th>\n",
              "      <th>station_name</th>\n",
              "      <th>latitude</th>\n",
              "      <th>longitude</th>\n",
              "      <th>6~7_ride</th>\n",
              "      <th>7~8_ride</th>\n",
              "      <th>...</th>\n",
              "      <th>18~20_ride</th>\n",
              "      <th>weekday_0</th>\n",
              "      <th>weekday_1</th>\n",
              "      <th>weekday_2</th>\n",
              "      <th>weekday_3</th>\n",
              "      <th>weekday_4</th>\n",
              "      <th>weekday_5</th>\n",
              "      <th>weekday_6</th>\n",
              "      <th>dis_jeju</th>\n",
              "      <th>dis_seogwipo</th>\n",
              "    </tr>\n",
              "  </thead>\n",
              "  <tbody>\n",
              "    <tr>\n",
              "      <th>0</th>\n",
              "      <td>0</td>\n",
              "      <td>2019-09-01</td>\n",
              "      <td>4270000</td>\n",
              "      <td>1</td>\n",
              "      <td>344</td>\n",
              "      <td>제주썬호텔</td>\n",
              "      <td>33.48990</td>\n",
              "      <td>126.49373</td>\n",
              "      <td>0.0</td>\n",
              "      <td>1.0</td>\n",
              "      <td>...</td>\n",
              "      <td>0.0</td>\n",
              "      <td>0</td>\n",
              "      <td>0</td>\n",
              "      <td>0</td>\n",
              "      <td>0</td>\n",
              "      <td>0</td>\n",
              "      <td>0</td>\n",
              "      <td>1</td>\n",
              "      <td>2.954920</td>\n",
              "      <td>26.256744</td>\n",
              "    </tr>\n",
              "    <tr>\n",
              "      <th>1</th>\n",
              "      <td>1</td>\n",
              "      <td>2019-09-01</td>\n",
              "      <td>4270000</td>\n",
              "      <td>1</td>\n",
              "      <td>357</td>\n",
              "      <td>한라병원</td>\n",
              "      <td>33.48944</td>\n",
              "      <td>126.48508</td>\n",
              "      <td>1.0</td>\n",
              "      <td>4.0</td>\n",
              "      <td>...</td>\n",
              "      <td>5.0</td>\n",
              "      <td>0</td>\n",
              "      <td>0</td>\n",
              "      <td>0</td>\n",
              "      <td>0</td>\n",
              "      <td>0</td>\n",
              "      <td>0</td>\n",
              "      <td>1</td>\n",
              "      <td>3.720275</td>\n",
              "      <td>26.403025</td>\n",
              "    </tr>\n",
              "    <tr>\n",
              "      <th>2</th>\n",
              "      <td>2</td>\n",
              "      <td>2019-09-01</td>\n",
              "      <td>4270000</td>\n",
              "      <td>1</td>\n",
              "      <td>432</td>\n",
              "      <td>정존마을</td>\n",
              "      <td>33.48181</td>\n",
              "      <td>126.47352</td>\n",
              "      <td>1.0</td>\n",
              "      <td>1.0</td>\n",
              "      <td>...</td>\n",
              "      <td>2.0</td>\n",
              "      <td>0</td>\n",
              "      <td>0</td>\n",
              "      <td>0</td>\n",
              "      <td>0</td>\n",
              "      <td>0</td>\n",
              "      <td>0</td>\n",
              "      <td>1</td>\n",
              "      <td>5.036124</td>\n",
              "      <td>25.893305</td>\n",
              "    </tr>\n",
              "    <tr>\n",
              "      <th>3</th>\n",
              "      <td>3</td>\n",
              "      <td>2019-09-01</td>\n",
              "      <td>4270000</td>\n",
              "      <td>0</td>\n",
              "      <td>1579</td>\n",
              "      <td>제주국제공항(600번)</td>\n",
              "      <td>33.50577</td>\n",
              "      <td>126.49252</td>\n",
              "      <td>0.0</td>\n",
              "      <td>17.0</td>\n",
              "      <td>...</td>\n",
              "      <td>53.0</td>\n",
              "      <td>0</td>\n",
              "      <td>0</td>\n",
              "      <td>0</td>\n",
              "      <td>0</td>\n",
              "      <td>0</td>\n",
              "      <td>0</td>\n",
              "      <td>1</td>\n",
              "      <td>2.864166</td>\n",
              "      <td>27.997494</td>\n",
              "    </tr>\n",
              "    <tr>\n",
              "      <th>4</th>\n",
              "      <td>4</td>\n",
              "      <td>2019-09-01</td>\n",
              "      <td>4270000</td>\n",
              "      <td>0</td>\n",
              "      <td>1646</td>\n",
              "      <td>중문관광단지입구</td>\n",
              "      <td>33.25579</td>\n",
              "      <td>126.41260</td>\n",
              "      <td>0.0</td>\n",
              "      <td>0.0</td>\n",
              "      <td>...</td>\n",
              "      <td>0.0</td>\n",
              "      <td>0</td>\n",
              "      <td>0</td>\n",
              "      <td>0</td>\n",
              "      <td>0</td>\n",
              "      <td>0</td>\n",
              "      <td>0</td>\n",
              "      <td>1</td>\n",
              "      <td>29.040353</td>\n",
              "      <td>13.574693</td>\n",
              "    </tr>\n",
              "  </tbody>\n",
              "</table>\n",
              "<p>5 rows × 30 columns</p>\n",
              "</div>\n",
              "      <button class=\"colab-df-convert\" onclick=\"convertToInteractive('df-24964d29-e003-4596-b416-b6d44486fe58')\"\n",
              "              title=\"Convert this dataframe to an interactive table.\"\n",
              "              style=\"display:none;\">\n",
              "        \n",
              "  <svg xmlns=\"http://www.w3.org/2000/svg\" height=\"24px\"viewBox=\"0 0 24 24\"\n",
              "       width=\"24px\">\n",
              "    <path d=\"M0 0h24v24H0V0z\" fill=\"none\"/>\n",
              "    <path d=\"M18.56 5.44l.94 2.06.94-2.06 2.06-.94-2.06-.94-.94-2.06-.94 2.06-2.06.94zm-11 1L8.5 8.5l.94-2.06 2.06-.94-2.06-.94L8.5 2.5l-.94 2.06-2.06.94zm10 10l.94 2.06.94-2.06 2.06-.94-2.06-.94-.94-2.06-.94 2.06-2.06.94z\"/><path d=\"M17.41 7.96l-1.37-1.37c-.4-.4-.92-.59-1.43-.59-.52 0-1.04.2-1.43.59L10.3 9.45l-7.72 7.72c-.78.78-.78 2.05 0 2.83L4 21.41c.39.39.9.59 1.41.59.51 0 1.02-.2 1.41-.59l7.78-7.78 2.81-2.81c.8-.78.8-2.07 0-2.86zM5.41 20L4 18.59l7.72-7.72 1.47 1.35L5.41 20z\"/>\n",
              "  </svg>\n",
              "      </button>\n",
              "      \n",
              "  <style>\n",
              "    .colab-df-container {\n",
              "      display:flex;\n",
              "      flex-wrap:wrap;\n",
              "      gap: 12px;\n",
              "    }\n",
              "\n",
              "    .colab-df-convert {\n",
              "      background-color: #E8F0FE;\n",
              "      border: none;\n",
              "      border-radius: 50%;\n",
              "      cursor: pointer;\n",
              "      display: none;\n",
              "      fill: #1967D2;\n",
              "      height: 32px;\n",
              "      padding: 0 0 0 0;\n",
              "      width: 32px;\n",
              "    }\n",
              "\n",
              "    .colab-df-convert:hover {\n",
              "      background-color: #E2EBFA;\n",
              "      box-shadow: 0px 1px 2px rgba(60, 64, 67, 0.3), 0px 1px 3px 1px rgba(60, 64, 67, 0.15);\n",
              "      fill: #174EA6;\n",
              "    }\n",
              "\n",
              "    [theme=dark] .colab-df-convert {\n",
              "      background-color: #3B4455;\n",
              "      fill: #D2E3FC;\n",
              "    }\n",
              "\n",
              "    [theme=dark] .colab-df-convert:hover {\n",
              "      background-color: #434B5C;\n",
              "      box-shadow: 0px 1px 3px 1px rgba(0, 0, 0, 0.15);\n",
              "      filter: drop-shadow(0px 1px 2px rgba(0, 0, 0, 0.3));\n",
              "      fill: #FFFFFF;\n",
              "    }\n",
              "  </style>\n",
              "\n",
              "      <script>\n",
              "        const buttonEl =\n",
              "          document.querySelector('#df-24964d29-e003-4596-b416-b6d44486fe58 button.colab-df-convert');\n",
              "        buttonEl.style.display =\n",
              "          google.colab.kernel.accessAllowed ? 'block' : 'none';\n",
              "\n",
              "        async function convertToInteractive(key) {\n",
              "          const element = document.querySelector('#df-24964d29-e003-4596-b416-b6d44486fe58');\n",
              "          const dataTable =\n",
              "            await google.colab.kernel.invokeFunction('convertToInteractive',\n",
              "                                                     [key], {});\n",
              "          if (!dataTable) return;\n",
              "\n",
              "          const docLinkHtml = 'Like what you see? Visit the ' +\n",
              "            '<a target=\"_blank\" href=https://colab.research.google.com/notebooks/data_table.ipynb>data table notebook</a>'\n",
              "            + ' to learn more about interactive tables.';\n",
              "          element.innerHTML = '';\n",
              "          dataTable['output_type'] = 'display_data';\n",
              "          await google.colab.output.renderOutput(dataTable, element);\n",
              "          const docLink = document.createElement('div');\n",
              "          docLink.innerHTML = docLinkHtml;\n",
              "          element.appendChild(docLink);\n",
              "        }\n",
              "      </script>\n",
              "    </div>\n",
              "  </div>\n",
              "  "
            ],
            "text/plain": [
              "   id       date  bus_route_id  in_out  station_code  station_name  latitude  \\\n",
              "0   0 2019-09-01       4270000       1           344         제주썬호텔  33.48990   \n",
              "1   1 2019-09-01       4270000       1           357          한라병원  33.48944   \n",
              "2   2 2019-09-01       4270000       1           432          정존마을  33.48181   \n",
              "3   3 2019-09-01       4270000       0          1579  제주국제공항(600번)  33.50577   \n",
              "4   4 2019-09-01       4270000       0          1646      중문관광단지입구  33.25579   \n",
              "\n",
              "   longitude  6~7_ride  7~8_ride  ...  18~20_ride  weekday_0  weekday_1  \\\n",
              "0  126.49373       0.0       1.0  ...         0.0          0          0   \n",
              "1  126.48508       1.0       4.0  ...         5.0          0          0   \n",
              "2  126.47352       1.0       1.0  ...         2.0          0          0   \n",
              "3  126.49252       0.0      17.0  ...        53.0          0          0   \n",
              "4  126.41260       0.0       0.0  ...         0.0          0          0   \n",
              "\n",
              "   weekday_2  weekday_3  weekday_4  weekday_5  weekday_6   dis_jeju  \\\n",
              "0          0          0          0          0          1   2.954920   \n",
              "1          0          0          0          0          1   3.720275   \n",
              "2          0          0          0          0          1   5.036124   \n",
              "3          0          0          0          0          1   2.864166   \n",
              "4          0          0          0          0          1  29.040353   \n",
              "\n",
              "   dis_seogwipo  \n",
              "0     26.256744  \n",
              "1     26.403025  \n",
              "2     25.893305  \n",
              "3     27.997494  \n",
              "4     13.574693  \n",
              "\n",
              "[5 rows x 30 columns]"
            ]
          },
          "execution_count": 13,
          "metadata": {},
          "output_type": "execute_result"
        }
      ],
      "source": [
        "data = train\n",
        "data.head()"
      ]
    },
    {
      "cell_type": "markdown",
      "metadata": {
        "id": "cJZhB6KR8Oz-"
      },
      "source": [
        "## 4) 강수량 추가"
      ]
    },
    {
      "cell_type": "code",
      "execution_count": null,
      "metadata": {
        "colab": {
          "base_uri": "https://localhost:8080/",
          "height": 206
        },
        "id": "T1_YjF8p--0k",
        "outputId": "5b4282b9-8436-40db-e8a2-8f7343ab27ce"
      },
      "outputs": [
        {
          "data": {
            "text/html": [
              "\n",
              "  <div id=\"df-ce4b709f-2631-40d5-9b5f-b60cec7f0119\">\n",
              "    <div class=\"colab-df-container\">\n",
              "      <div>\n",
              "<style scoped>\n",
              "    .dataframe tbody tr th:only-of-type {\n",
              "        vertical-align: middle;\n",
              "    }\n",
              "\n",
              "    .dataframe tbody tr th {\n",
              "        vertical-align: top;\n",
              "    }\n",
              "\n",
              "    .dataframe thead th {\n",
              "        text-align: right;\n",
              "    }\n",
              "</style>\n",
              "<table border=\"1\" class=\"dataframe\">\n",
              "  <thead>\n",
              "    <tr style=\"text-align: right;\">\n",
              "      <th></th>\n",
              "      <th>date</th>\n",
              "      <th>rain_jeju(mm)</th>\n",
              "      <th>rain_seogwipo(mm)</th>\n",
              "    </tr>\n",
              "  </thead>\n",
              "  <tbody>\n",
              "    <tr>\n",
              "      <th>0</th>\n",
              "      <td>2019-09-01</td>\n",
              "      <td>26.1</td>\n",
              "      <td>18.7</td>\n",
              "    </tr>\n",
              "    <tr>\n",
              "      <th>1</th>\n",
              "      <td>2019-09-02</td>\n",
              "      <td>25.7</td>\n",
              "      <td>14.6</td>\n",
              "    </tr>\n",
              "    <tr>\n",
              "      <th>2</th>\n",
              "      <td>2019-09-03</td>\n",
              "      <td>13.9</td>\n",
              "      <td>9.5</td>\n",
              "    </tr>\n",
              "    <tr>\n",
              "      <th>3</th>\n",
              "      <td>2019-09-04</td>\n",
              "      <td>43.0</td>\n",
              "      <td>28.9</td>\n",
              "    </tr>\n",
              "    <tr>\n",
              "      <th>4</th>\n",
              "      <td>2019-09-05</td>\n",
              "      <td>7.0</td>\n",
              "      <td>15.7</td>\n",
              "    </tr>\n",
              "  </tbody>\n",
              "</table>\n",
              "</div>\n",
              "      <button class=\"colab-df-convert\" onclick=\"convertToInteractive('df-ce4b709f-2631-40d5-9b5f-b60cec7f0119')\"\n",
              "              title=\"Convert this dataframe to an interactive table.\"\n",
              "              style=\"display:none;\">\n",
              "        \n",
              "  <svg xmlns=\"http://www.w3.org/2000/svg\" height=\"24px\"viewBox=\"0 0 24 24\"\n",
              "       width=\"24px\">\n",
              "    <path d=\"M0 0h24v24H0V0z\" fill=\"none\"/>\n",
              "    <path d=\"M18.56 5.44l.94 2.06.94-2.06 2.06-.94-2.06-.94-.94-2.06-.94 2.06-2.06.94zm-11 1L8.5 8.5l.94-2.06 2.06-.94-2.06-.94L8.5 2.5l-.94 2.06-2.06.94zm10 10l.94 2.06.94-2.06 2.06-.94-2.06-.94-.94-2.06-.94 2.06-2.06.94z\"/><path d=\"M17.41 7.96l-1.37-1.37c-.4-.4-.92-.59-1.43-.59-.52 0-1.04.2-1.43.59L10.3 9.45l-7.72 7.72c-.78.78-.78 2.05 0 2.83L4 21.41c.39.39.9.59 1.41.59.51 0 1.02-.2 1.41-.59l7.78-7.78 2.81-2.81c.8-.78.8-2.07 0-2.86zM5.41 20L4 18.59l7.72-7.72 1.47 1.35L5.41 20z\"/>\n",
              "  </svg>\n",
              "      </button>\n",
              "      \n",
              "  <style>\n",
              "    .colab-df-container {\n",
              "      display:flex;\n",
              "      flex-wrap:wrap;\n",
              "      gap: 12px;\n",
              "    }\n",
              "\n",
              "    .colab-df-convert {\n",
              "      background-color: #E8F0FE;\n",
              "      border: none;\n",
              "      border-radius: 50%;\n",
              "      cursor: pointer;\n",
              "      display: none;\n",
              "      fill: #1967D2;\n",
              "      height: 32px;\n",
              "      padding: 0 0 0 0;\n",
              "      width: 32px;\n",
              "    }\n",
              "\n",
              "    .colab-df-convert:hover {\n",
              "      background-color: #E2EBFA;\n",
              "      box-shadow: 0px 1px 2px rgba(60, 64, 67, 0.3), 0px 1px 3px 1px rgba(60, 64, 67, 0.15);\n",
              "      fill: #174EA6;\n",
              "    }\n",
              "\n",
              "    [theme=dark] .colab-df-convert {\n",
              "      background-color: #3B4455;\n",
              "      fill: #D2E3FC;\n",
              "    }\n",
              "\n",
              "    [theme=dark] .colab-df-convert:hover {\n",
              "      background-color: #434B5C;\n",
              "      box-shadow: 0px 1px 3px 1px rgba(0, 0, 0, 0.15);\n",
              "      filter: drop-shadow(0px 1px 2px rgba(0, 0, 0, 0.3));\n",
              "      fill: #FFFFFF;\n",
              "    }\n",
              "  </style>\n",
              "\n",
              "      <script>\n",
              "        const buttonEl =\n",
              "          document.querySelector('#df-ce4b709f-2631-40d5-9b5f-b60cec7f0119 button.colab-df-convert');\n",
              "        buttonEl.style.display =\n",
              "          google.colab.kernel.accessAllowed ? 'block' : 'none';\n",
              "\n",
              "        async function convertToInteractive(key) {\n",
              "          const element = document.querySelector('#df-ce4b709f-2631-40d5-9b5f-b60cec7f0119');\n",
              "          const dataTable =\n",
              "            await google.colab.kernel.invokeFunction('convertToInteractive',\n",
              "                                                     [key], {});\n",
              "          if (!dataTable) return;\n",
              "\n",
              "          const docLinkHtml = 'Like what you see? Visit the ' +\n",
              "            '<a target=\"_blank\" href=https://colab.research.google.com/notebooks/data_table.ipynb>data table notebook</a>'\n",
              "            + ' to learn more about interactive tables.';\n",
              "          element.innerHTML = '';\n",
              "          dataTable['output_type'] = 'display_data';\n",
              "          await google.colab.output.renderOutput(dataTable, element);\n",
              "          const docLink = document.createElement('div');\n",
              "          docLink.innerHTML = docLinkHtml;\n",
              "          element.appendChild(docLink);\n",
              "        }\n",
              "      </script>\n",
              "    </div>\n",
              "  </div>\n",
              "  "
            ],
            "text/plain": [
              "        date  rain_jeju(mm)  rain_seogwipo(mm)\n",
              "0 2019-09-01           26.1               18.7\n",
              "1 2019-09-02           25.7               14.6\n",
              "2 2019-09-03           13.9                9.5\n",
              "3 2019-09-04           43.0               28.9\n",
              "4 2019-09-05            7.0               15.7"
            ]
          },
          "execution_count": 30,
          "metadata": {},
          "output_type": "execute_result"
        }
      ],
      "source": [
        "rain = pd.read_csv(path + \"rain_jeju_9&10.csv\")\n",
        "rain['date'] = pd.to_datetime(rain['date'])\n",
        "\n",
        "rain['date'] = rain[\"date\"].dt.strftime(\"%Y-%m-%d\")\n",
        "rain['date'] = pd.to_datetime(rain['date'])\n",
        "\n",
        "rain.head()"
      ]
    },
    {
      "cell_type": "code",
      "execution_count": null,
      "metadata": {
        "id": "AdfXn_a3AV9R"
      },
      "outputs": [],
      "source": [
        "train = pd.merge(train,rain)\n",
        "test = pd.merge(test,rain)"
      ]
    },
    {
      "cell_type": "code",
      "execution_count": null,
      "metadata": {
        "id": "Y_5kwrFyuPoI"
      },
      "outputs": [],
      "source": [
        "train.to_csv(path + 'train_final.csv',index = False)\n",
        "test.to_csv(path + 'test_final.csv',index = False)"
      ]
    },
    {
      "cell_type": "markdown",
      "metadata": {
        "id": "eEhVdEF68fo2"
      },
      "source": [
        "## 5) holiday 추가"
      ]
    },
    {
      "cell_type": "code",
      "execution_count": null,
      "metadata": {
        "id": "2dPPGLdH9y-L"
      },
      "outputs": [],
      "source": [
        "# train.drop([], axis=1, inplace=True)"
      ]
    },
    {
      "cell_type": "code",
      "execution_count": 2,
      "metadata": {
        "id": "D8sxaKp5OUCz"
      },
      "outputs": [],
      "source": [
        "train = pd.read_csv(path + 'train_final.csv')\n",
        "test = pd.read_csv(path + 'test_final.csv')"
      ]
    },
    {
      "cell_type": "code",
      "execution_count": 3,
      "metadata": {
        "id": "K8j3KhoZN9X9"
      },
      "outputs": [],
      "source": [
        "def holiday(x):\n",
        "    if x in ['2019-09-12','2019-09-13','2019-09-14','2019-10-03','2019-10-09']:\n",
        "        return 1\n",
        "    else:\n",
        "        return 0\n",
        "\n",
        "train['holiday'] = train['date'].apply(holiday) \n",
        "test['holiday'] = test['date'].apply(holiday) "
      ]
    },
    {
      "cell_type": "code",
      "execution_count": 4,
      "metadata": {
        "colab": {
          "base_uri": "https://localhost:8080/"
        },
        "id": "1IkkWTKhOyRN",
        "outputId": "ef9cd053-6592-4d44-8bec-c7ce06ea64e3"
      },
      "outputs": [
        {
          "data": {
            "text/plain": [
              "id                   0\n",
              "date                 0\n",
              "bus_route_id         0\n",
              "in_out               0\n",
              "station_code         0\n",
              "station_name         0\n",
              "latitude             0\n",
              "longitude            0\n",
              "6~7_ride             0\n",
              "7~8_ride             0\n",
              "8~9_ride             0\n",
              "9~10_ride            0\n",
              "10~11_ride           0\n",
              "11~12_ride           0\n",
              "6~7_takeoff          0\n",
              "7~8_takeoff          0\n",
              "8~9_takeoff          0\n",
              "9~10_takeoff         0\n",
              "10~11_takeoff        0\n",
              "11~12_takeoff        0\n",
              "18~20_ride           0\n",
              "weekday_0            0\n",
              "weekday_1            0\n",
              "weekday_2            0\n",
              "weekday_3            0\n",
              "weekday_4            0\n",
              "weekday_5            0\n",
              "weekday_6            0\n",
              "dis_jeju             0\n",
              "dis_seogwipo         0\n",
              "rain_jeju(mm)        0\n",
              "rain_seogwipo(mm)    0\n",
              "holiday              0\n",
              "dtype: int64"
            ]
          },
          "execution_count": 4,
          "metadata": {},
          "output_type": "execute_result"
        }
      ],
      "source": [
        "train.isnull().sum()"
      ]
    },
    {
      "cell_type": "code",
      "execution_count": 5,
      "metadata": {
        "colab": {
          "base_uri": "https://localhost:8080/"
        },
        "id": "NX7HeNj8OzyN",
        "outputId": "6512e7ab-d913-40b2-f654-b674c449a56f"
      },
      "outputs": [
        {
          "data": {
            "text/plain": [
              "id                   0\n",
              "date                 0\n",
              "bus_route_id         0\n",
              "in_out               0\n",
              "station_code         0\n",
              "station_name         0\n",
              "latitude             0\n",
              "longitude            0\n",
              "6~7_ride             0\n",
              "7~8_ride             0\n",
              "8~9_ride             0\n",
              "9~10_ride            0\n",
              "10~11_ride           0\n",
              "11~12_ride           0\n",
              "6~7_takeoff          0\n",
              "7~8_takeoff          0\n",
              "8~9_takeoff          0\n",
              "9~10_takeoff         0\n",
              "10~11_takeoff        0\n",
              "11~12_takeoff        0\n",
              "weekday_0            0\n",
              "weekday_1            0\n",
              "weekday_2            0\n",
              "weekday_3            0\n",
              "weekday_4            0\n",
              "weekday_5            0\n",
              "weekday_6            0\n",
              "dis_jeju             0\n",
              "dis_seogwipo         0\n",
              "rain_jeju(mm)        0\n",
              "rain_seogwipo(mm)    0\n",
              "holiday              0\n",
              "dtype: int64"
            ]
          },
          "execution_count": 5,
          "metadata": {},
          "output_type": "execute_result"
        }
      ],
      "source": [
        "test.isnull().sum()"
      ]
    },
    {
      "cell_type": "markdown",
      "metadata": {
        "id": "rNUqlk5MUjUq"
      },
      "source": [
        "# 2. 평가 함수\n",
        "- rmse vs. rmsle\n",
        "https://ahnjg.tistory.com/90\n",
        "![image.png](data:image/png;base64,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)"
      ]
    },
    {
      "cell_type": "code",
      "execution_count": 6,
      "metadata": {
        "id": "37FkibN1UixA"
      },
      "outputs": [],
      "source": [
        "# log 값 변환 시 언더플로우 영향으로 log() 가 아닌 log1p() 를 이용하여 RMSLE 계산\n",
        "#RMSLE 의 식을 살펴보면, 어떤 양( log(XX) )의 각각을 제곱(square)한 값을 평균(mean)을 내서, 루트(root)를 씌운다.\n",
        "\n",
        "def rmsle(y, pred, convertExp=True):\n",
        "    if convertExp:\n",
        "        y = np.expm1(y)\n",
        "        pred = np.expm1(pred)\n",
        "    \n",
        "    log_y = np.log1p(y)\n",
        "    log_pred = np.log1p(pred)\n",
        "    squared_error = (log_y - log_pred) ** 2\n",
        "    rmsle = np.sqrt(np.mean(squared_error))\n",
        "    return rmsle\n",
        "\n",
        "# make_scorer - This factory function wraps scoring functions for use in GridSearchCV and cross_val_score. \n",
        "rmsle_scorer = make_scorer(rmsle, greater_is_better=False)"
      ]
    },
    {
      "cell_type": "code",
      "execution_count": 11,
      "metadata": {
        "id": "duBgfPJx6FGD"
      },
      "outputs": [],
      "source": [
        "# def rmse(y, pred):\n",
        "#     squared_error = (y - pred) ** 2\n",
        "#     rmse = np.sqrt(np.mean(squared_error))\n",
        "#     return rmse\n",
        "\n",
        "def rmse(y, y_pred):\n",
        "    return mean_squared_error(y, y_pred)**0.5\n",
        "\n",
        "rmse_scorer = make_scorer(rmse, greater_is_better=False)"
      ]
    },
    {
      "cell_type": "markdown",
      "metadata": {
        "id": "jv6QRGCYQoaJ"
      },
      "source": [
        "# 3. 모델링"
      ]
    },
    {
      "cell_type": "markdown",
      "metadata": {
        "id": "-JZYCBG67Qor"
      },
      "source": [
        "## train-test 분리"
      ]
    },
    {
      "cell_type": "code",
      "execution_count": 8,
      "metadata": {
        "id": "dEhVNcblC2Zr"
      },
      "outputs": [],
      "source": [
        "# input_var=['latitude','longitude','6~7_ride', '7~8_ride', '8~9_ride', '9~10_ride',\n",
        "#        '10~11_ride', '11~12_ride', '6~7_takeoff', '7~8_takeoff', '8~9_takeoff',\n",
        "#        '9~10_takeoff', '10~11_takeoff', '11~12_takeoff','weekday_0', 'weekday_1', 'weekday_2', 'weekday_3', 'weekday_4',\n",
        "#        'weekday_5', 'weekday_6', 'dis_jeju', 'dis_seogwipo']\n",
        "# target = ['18~20_ride']"
      ]
    },
    {
      "cell_type": "code",
      "execution_count": 8,
      "metadata": {
        "id": "yg0pTvzRCiZO"
      },
      "outputs": [],
      "source": [
        "train.drop(['id','date','station_name'], axis=1, inplace=True)"
      ]
    },
    {
      "cell_type": "code",
      "execution_count": 9,
      "metadata": {
        "id": "luQrL2ZSCQuZ"
      },
      "outputs": [],
      "source": [
        "X = train.loc[:, train.columns != '18~20_ride']\n",
        "y = train[['18~20_ride']]"
      ]
    },
    {
      "cell_type": "code",
      "execution_count": 10,
      "metadata": {
        "id": "t3TjQsL761i9"
      },
      "outputs": [],
      "source": [
        "X_train, X_test, y_train, y_test = train_test_split(X,y,test_size = 0.2,shuffle = False)"
      ]
    },
    {
      "cell_type": "markdown",
      "metadata": {
        "id": "u_GK0yrYxLt-"
      },
      "source": [
        "## Linear Regression"
      ]
    },
    {
      "cell_type": "code",
      "execution_count": null,
      "metadata": {
        "id": "H3WwaBJZxblX"
      },
      "outputs": [],
      "source": [
        "lin_reg = LinearRegression()"
      ]
    },
    {
      "cell_type": "code",
      "execution_count": null,
      "metadata": {
        "colab": {
          "base_uri": "https://localhost:8080/"
        },
        "id": "hmC0ZYOQxds7",
        "outputId": "93c627a7-0546-49b1-86be-e0a8a9a1e37e"
      },
      "outputs": [
        {
          "data": {
            "text/plain": [
              "LinearRegression()"
            ]
          },
          "execution_count": 75,
          "metadata": {},
          "output_type": "execute_result"
        }
      ],
      "source": [
        "lin_reg.fit(X_train, y_train)"
      ]
    },
    {
      "cell_type": "code",
      "execution_count": null,
      "metadata": {
        "colab": {
          "base_uri": "https://localhost:8080/"
        },
        "id": "Bn6LRhxcxmZR",
        "outputId": "96ecdb1f-dbd9-499f-a4d4-8a756038a54c"
      },
      "outputs": [
        {
          "data": {
            "text/plain": [
              "3.624993598147119"
            ]
          },
          "execution_count": 79,
          "metadata": {},
          "output_type": "execute_result"
        }
      ],
      "source": [
        "scores = cross_val_score(lin_reg, X_train, y_train, scoring=rmse_scorer, cv=5)\n",
        "-scores.mean() # 5개 교차 검증한 결과의 평균 rmse"
      ]
    },
    {
      "cell_type": "markdown",
      "metadata": {},
      "source": [
        "### rsquared 값 계산"
      ]
    },
    {
      "cell_type": "code",
      "execution_count": null,
      "metadata": {},
      "outputs": [],
      "source": [
        "#calculate R-squared of regression model\n",
        "r_squared = lin_reg.score(X_train, y_train)\n",
        "\n",
        "#view R-squared value\n",
        "print(r_squared)"
      ]
    },
    {
      "cell_type": "markdown",
      "metadata": {
        "id": "R6RAF6IqyyKW"
      },
      "source": [
        "## RandomFoerstRegressor"
      ]
    },
    {
      "cell_type": "code",
      "execution_count": 12,
      "metadata": {
        "colab": {
          "base_uri": "https://localhost:8080/"
        },
        "id": "KjKld1F5RHRx",
        "outputId": "78d5769a-6a99-4029-f580-116c048d96b7"
      },
      "outputs": [
        {
          "name": "stdout",
          "output_type": "stream",
          "text": [
            "CPU times: user 5min 6s, sys: 1.92 s, total: 5min 8s\n",
            "Wall time: 5min 13s\n"
          ]
        },
        {
          "data": {
            "text/plain": [
              "RandomForestRegressor(random_state=1217)"
            ]
          },
          "execution_count": 12,
          "metadata": {},
          "output_type": "execute_result"
        }
      ],
      "source": [
        "rf = RandomForestRegressor(random_state = 1217)\n",
        "\n",
        "%time rf.fit(X_train, y_train)"
      ]
    },
    {
      "cell_type": "code",
      "execution_count": 13,
      "metadata": {
        "id": "BEi3QfHyDbUb"
      },
      "outputs": [],
      "source": [
        "scores = cross_val_score(rf, X_train, y_train, scoring=rmse_scorer, cv=5)\n",
        "-scores.mean() # 5개 교차 검증한 결과의 평균 rmse"
      ]
    },
    {
      "cell_type": "code",
      "execution_count": null,
      "metadata": {},
      "outputs": [],
      "source": []
    },
    {
      "cell_type": "markdown",
      "metadata": {
        "id": "Pqy2g2WEPZ-_"
      },
      "source": [
        "## RandomFoerstRegressor (GridSearchCV)"
      ]
    },
    {
      "cell_type": "code",
      "execution_count": null,
      "metadata": {
        "id": "5TtPEE4sPZ-_"
      },
      "outputs": [],
      "source": [
        "rf_params = {'n_estimators' : [100, 120, 140]}\n",
        "rnd_forest = RandomForestRegressor(random_state=42)\n",
        "\n",
        "gridsearch_forest = GridSearchCV(rnd_forest, rf_params, scoring=rmse_scorer, cv=5, n_jobs=-1)\n",
        "\n",
        "%time gridsearch_forest.fit(X_train, y_train)"
      ]
    },
    {
      "cell_type": "code",
      "execution_count": null,
      "metadata": {
        "id": "UyrjXp5rPZ-_"
      },
      "outputs": [],
      "source": [
        "gridsearch_forest.best_params_"
      ]
    },
    {
      "cell_type": "code",
      "execution_count": null,
      "metadata": {
        "id": "ebSYDM3EPZ_A"
      },
      "outputs": [],
      "source": [
        "cvres = gridsearch_forest.cv_results_\n",
        "\n",
        "for mean_score, params in zip(cvres['mean_test_score'], cvres['params']):\n",
        "    print(-mean_score, params) # rmsle와 그 때의 하이퍼 파라미터"
      ]
    },
    {
      "cell_type": "code",
      "execution_count": null,
      "metadata": {
        "id": "g3yB9gGZPZ_A"
      },
      "outputs": [],
      "source": [
        "sorted(zip(gridsearch_forest.best_estimator_.feature_importances_, X_train.columns), reverse=True)"
      ]
    },
    {
      "cell_type": "markdown",
      "metadata": {
        "id": "staTNMX5zgQZ"
      },
      "source": [
        "## Gradient Boosting"
      ]
    },
    {
      "cell_type": "code",
      "execution_count": 12,
      "metadata": {
        "id": "Q5t442pfzlbh"
      },
      "outputs": [],
      "source": [
        "gbrt_params = { 'learning_rate' : [0.01, 0.02, 0.03, 0.04], # 각 트리의 기여도\n",
        "               'n_estimators' : [1000, 1500],\n",
        "               'subsample' : [0.9, 0.5, 0.2],\n",
        "               'max_depth' : [2, 4, 6, 8]\n",
        "    \n",
        "}\n",
        "\n",
        "gbrt = GradientBoostingRegressor()\n",
        "\n",
        "gridsearch_gbrt = GridSearchCV(gbrt, gbrt_params, scoring=rmse_scorer, cv=5, n_jobs=-1)"
      ]
    },
    {
      "cell_type": "code",
      "execution_count": null,
      "metadata": {
        "id": "nXr8N1NxzpYa"
      },
      "outputs": [],
      "source": [
        "%time gridsearch_gbrt.fit(X_train, y_train)"
      ]
    },
    {
      "cell_type": "code",
      "execution_count": null,
      "metadata": {
        "id": "aqKo3GzhzrQT"
      },
      "outputs": [],
      "source": [
        "gridsearch_gbrt.best_params_"
      ]
    },
    {
      "cell_type": "code",
      "execution_count": null,
      "metadata": {
        "id": "AGbIEzJRztoS"
      },
      "outputs": [],
      "source": [
        "cvres = gridsearch_gbrt.cv_results_\n",
        "\n",
        "for mean_score, params in zip(cvres['mean_test_score'], cvres['params']):\n",
        "    print(-mean_score, params) # rmsle와 그 때의 하이퍼 파라미터"
      ]
    },
    {
      "cell_type": "code",
      "execution_count": null,
      "metadata": {
        "id": "eosXHq8XzxXp"
      },
      "outputs": [],
      "source": [
        "sorted(zip(gridsearch_gbrt.best_estimator_.feature_importances_, X_train.columns), reverse=True)"
      ]
    },
    {
      "cell_type": "code",
      "execution_count": null,
      "metadata": {
        "id": "EKhrnizrD2rt"
      },
      "outputs": [],
      "source": [
        "gridsearch_best_model = gridsearch_gbrt.best_estimator_"
      ]
    },
    {
      "cell_type": "code",
      "execution_count": null,
      "metadata": {
        "id": "ztmq3PowD1UC"
      },
      "outputs": [],
      "source": [
        "scores = cross_val_score(gridsearch_best_model, X_train, y_train, scoring=rmse_scorer, cv=5)\n",
        "-scores.mean() # 5개 교차 검증한 결과의 평균 rmse"
      ]
    },
    {
      "cell_type": "markdown",
      "metadata": {
        "id": "4eAFxIAZ04xY"
      },
      "source": [
        "## XGboost"
      ]
    },
    {
      "cell_type": "code",
      "execution_count": 21,
      "metadata": {
        "id": "EI42Sztt06NV"
      },
      "outputs": [],
      "source": [
        "xgb_params = { 'learning_rate' : [0.01, 0.02, 0.03, 0.04], # 각 트리의 기여도\n",
        "               'n_estimators' : [1000, 1500],\n",
        "               'subsample' : [0.9, 0.5, 0.2],\n",
        "               'max_depth' : [2, 4, 6, 8]\n",
        "    \n",
        "}\n",
        "\n",
        "xgb = xg.XGBRegressor()\n",
        "\n",
        "gridsearch_xgb = GridSearchCV(xgb, xgb_params, scoring=rmse_scorer, cv=5, n_jobs=-1)"
      ]
    },
    {
      "cell_type": "code",
      "execution_count": 22,
      "metadata": {
        "id": "yFFQ3FNa1lYm"
      },
      "outputs": [],
      "source": [
        "%time gridsearch_xgb.fit(X_train, y_train)"
      ]
    },
    {
      "cell_type": "code",
      "execution_count": null,
      "metadata": {
        "id": "ZkuxR6ci1wxt"
      },
      "outputs": [],
      "source": [
        "gridsearch_xgb.best_params_"
      ]
    },
    {
      "cell_type": "code",
      "execution_count": null,
      "metadata": {
        "id": "Y7QbdBPV1yBe"
      },
      "outputs": [],
      "source": [
        "cvres = gridsearch_xgb.cv_results_\n",
        "\n",
        "for mean_score, params in zip(cvres['mean_test_score'], cvres['params']):\n",
        "    print(-mean_score, params) # rmsle와 그 때의 하이퍼 파라미터"
      ]
    },
    {
      "cell_type": "code",
      "execution_count": null,
      "metadata": {
        "id": "SuDCDjqx11Ha"
      },
      "outputs": [],
      "source": [
        "sorted(zip(gridsearch_xgb.best_estimator_.feature_importances_, X_train.columns), reverse=True)"
      ]
    },
    {
      "cell_type": "code",
      "execution_count": null,
      "metadata": {
        "id": "2HtzZLY410zU"
      },
      "outputs": [],
      "source": [
        "xgb_best_model = gridsearch_xgb.best_estimator_"
      ]
    },
    {
      "cell_type": "code",
      "execution_count": null,
      "metadata": {
        "id": "8mX0xylEEAA7"
      },
      "outputs": [],
      "source": [
        "scores = cross_val_score(xgb_best_model, X_train, y_train, scoring=rmse_scorer, cv=5)\n",
        "-scores.mean() # 5개 교차 검증한 결과의 평균 rmse"
      ]
    },
    {
      "cell_type": "markdown",
      "metadata": {
        "id": "pmao1LcMzzuP"
      },
      "source": [
        "# 3.모델 예측 & 평가"
      ]
    },
    {
      "cell_type": "markdown",
      "metadata": {},
      "source": [
        "## 최종 train/test data 불러오기"
      ]
    },
    {
      "cell_type": "code",
      "execution_count": 13,
      "metadata": {},
      "outputs": [],
      "source": [
        "train = pd.read_csv(path + 'train_final.csv')\n",
        "test = pd.read_csv(path + 'test_final.csv')\n",
        "\n",
        "def holiday(x):\n",
        "    if x in ['2019-09-12','2019-09-13','2019-09-14','2019-10-03','2019-10-09']:\n",
        "        return 1\n",
        "    else:\n",
        "        return 0\n",
        "\n",
        "train['holiday'] = train['date'].apply(holiday) \n",
        "test['holiday'] = test['date'].apply(holiday) "
      ]
    },
    {
      "cell_type": "code",
      "execution_count": 14,
      "metadata": {},
      "outputs": [],
      "source": [
        "train.drop(['date','station_name'], axis=1, inplace=True)\n",
        "test.drop(['date','station_name'], axis=1, inplace=True)"
      ]
    },
    {
      "cell_type": "code",
      "execution_count": 15,
      "metadata": {},
      "outputs": [],
      "source": [
        "X_train = train.loc[:, train.columns != '18~20_ride']\n",
        "y_train=train['18~20_ride']\n",
        "\n",
        "X_test = test.loc[:, test.columns != '18~20_ride']"
      ]
    },
    {
      "cell_type": "markdown",
      "metadata": {},
      "source": [
        "## 최종 train & predict"
      ]
    },
    {
      "cell_type": "code",
      "execution_count": 16,
      "metadata": {},
      "outputs": [
        {
          "name": "stdout",
          "output_type": "stream",
          "text": [
            "CPU times: user 10min 41s, sys: 4.22 s, total: 10min 46s\n",
            "Wall time: 44min 59s\n"
          ]
        },
        {
          "data": {
            "text/plain": [
              "GridSearchCV(cv=5, estimator=RandomForestRegressor(random_state=42), n_jobs=-1,\n",
              "             param_grid={'n_estimators': [100, 120, 140]},\n",
              "             scoring=make_scorer(rmse, greater_is_better=False))"
            ]
          },
          "execution_count": 16,
          "metadata": {},
          "output_type": "execute_result"
        }
      ],
      "source": [
        "rf_params = {'n_estimators' : [100, 120, 140]}\n",
        "rnd_forest = RandomForestRegressor(random_state=42)\n",
        "\n",
        "gridsearch_forest = GridSearchCV(rnd_forest, rf_params, scoring=rmse_scorer, cv=5, n_jobs=-1)\n",
        "\n",
        "%time gridsearch_forest.fit(X_train, y_train)"
      ]
    },
    {
      "cell_type": "code",
      "execution_count": 17,
      "metadata": {},
      "outputs": [
        {
          "name": "stdout",
          "output_type": "stream",
          "text": [
            "2.9989209150982843 {'n_estimators': 100}\n",
            "2.999519501887069 {'n_estimators': 120}\n",
            "2.997570348936464 {'n_estimators': 140}\n"
          ]
        }
      ],
      "source": [
        "cvres = gridsearch_forest.cv_results_\n",
        "\n",
        "for mean_score, params in zip(cvres['mean_test_score'], cvres['params']):\n",
        "    print(-mean_score, params) # rmsle와 그 때의 하이퍼 파라미터"
      ]
    },
    {
      "cell_type": "code",
      "execution_count": 18,
      "metadata": {},
      "outputs": [],
      "source": [
        "best_model = gridsearch_forest.best_estimator_"
      ]
    },
    {
      "cell_type": "code",
      "execution_count": 19,
      "metadata": {
        "id": "6VQP7Bspz1ZL"
      },
      "outputs": [
        {
          "data": {
            "text/plain": [
              "array([ 9.85      , 10.11428571,  5.45      , ...,  0.        ,\n",
              "        0.23571429,  0.04285714])"
            ]
          },
          "execution_count": 19,
          "metadata": {},
          "output_type": "execute_result"
        }
      ],
      "source": [
        "best_pred = best_model.predict(X_test)\n",
        "best_pred"
      ]
    },
    {
      "cell_type": "code",
      "execution_count": 20,
      "metadata": {
        "id": "WSGqxk8Hz3JX"
      },
      "outputs": [],
      "source": [
        "test['18~20_ride'] = best_pred\n",
        "test[['id','18~20_ride']].to_csv(\"dacon_base_line.csv\",index=False)"
      ]
    }
  ],
  "metadata": {
    "colab": {
      "collapsed_sections": [],
      "provenance": [],
      "toc_visible": true
    },
    "kernelspec": {
      "display_name": "Python 3.8.3 ('base')",
      "language": "python",
      "name": "python3"
    },
    "language_info": {
      "codemirror_mode": {
        "name": "ipython",
        "version": 3
      },
      "file_extension": ".py",
      "mimetype": "text/x-python",
      "name": "python",
      "nbconvert_exporter": "python",
      "pygments_lexer": "ipython3",
      "version": "3.8.3"
    },
    "vscode": {
      "interpreter": {
        "hash": "dcfd41fce1e84fe5854a6f55d82c3c14a68dcbcbf7bbebc76d7a18baf5e9f28d"
      }
    }
  },
  "nbformat": 4,
  "nbformat_minor": 0
}
