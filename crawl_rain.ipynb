{
 "cells": [
  {
   "cell_type": "markdown",
   "metadata": {},
   "source": [
    "# 날짜 범위 내의 제주도 강수량 크롤링\n",
    "- https://www.weather.go.kr/w/obs-climate/land/past-obs/obs-by-day.do?stn=189&yy=2019&mm=9&obs=1"
   ]
  },
  {
   "cell_type": "code",
   "execution_count": 43,
   "metadata": {},
   "outputs": [],
   "source": [
    "from bs4 import BeautifulSoup\n",
    "import pandas as pd\n",
    "import requests\n",
    "import re"
   ]
  },
  {
   "cell_type": "code",
   "execution_count": 69,
   "metadata": {},
   "outputs": [
    {
     "data": {
      "text/html": [
       "<div>\n",
       "<style scoped>\n",
       "    .dataframe tbody tr th:only-of-type {\n",
       "        vertical-align: middle;\n",
       "    }\n",
       "\n",
       "    .dataframe tbody tr th {\n",
       "        vertical-align: top;\n",
       "    }\n",
       "\n",
       "    .dataframe thead th {\n",
       "        text-align: right;\n",
       "    }\n",
       "</style>\n",
       "<table border=\"1\" class=\"dataframe\">\n",
       "  <thead>\n",
       "    <tr style=\"text-align: right;\">\n",
       "      <th></th>\n",
       "      <th>date</th>\n",
       "      <th>rain_jeju(mm)</th>\n",
       "      <th>rain_seogwipo(mm)</th>\n",
       "    </tr>\n",
       "  </thead>\n",
       "  <tbody>\n",
       "  </tbody>\n",
       "</table>\n",
       "</div>"
      ],
      "text/plain": [
       "Empty DataFrame\n",
       "Columns: [date, rain_jeju(mm), rain_seogwipo(mm)]\n",
       "Index: []"
      ]
     },
     "execution_count": 69,
     "metadata": {},
     "output_type": "execute_result"
    }
   ],
   "source": [
    "data = pd.DataFrame(columns = ['date','rain_jeju(mm)','rain_seogwipo(mm)'])\n",
    "data.head()"
   ]
  },
  {
   "cell_type": "code",
   "execution_count": 56,
   "metadata": {},
   "outputs": [],
   "source": [
    "def crawling(url):\n",
    "    page = requests.get(url)\n",
    "\n",
    "    soup = BeautifulSoup(page.text, \"html.parser\")\n",
    "    # contents = soup.find_all('table','table-col table-cal')\n",
    "    contents = soup.find_all('span')\n",
    "\n",
    "    return contents"
   ]
  },
  {
   "cell_type": "code",
   "execution_count": 59,
   "metadata": {},
   "outputs": [],
   "source": [
    "def preprocessing(contents,result):\n",
    "    for i in contents:\n",
    "        if '일강수량:' in i.text:\n",
    "            value = i.text.split(':')[1]\n",
    "            if value == ' - ' or value == '0.0mm':\n",
    "                value = 0\n",
    "                result.append(value)\n",
    "                continue\n",
    "            result.append(float(value[:-2]))\n",
    "    return result"
   ]
  },
  {
   "cell_type": "code",
   "execution_count": 62,
   "metadata": {},
   "outputs": [],
   "source": [
    "url_jeju = \"https://www.weather.go.kr/w/obs-climate/land/past-obs/obs-by-day.do?stn=184&yy=2019&mm=9&obs=1\"\n",
    "url_seogwipo = \"https://www.weather.go.kr/w/obs-climate/land/past-obs/obs-by-day.do?stn=189&yy=2019&mm=9&obs=1\""
   ]
  },
  {
   "cell_type": "code",
   "execution_count": 66,
   "metadata": {},
   "outputs": [],
   "source": [
    "jeju, seogwipo = [],[]\n",
    "\n",
    "contents = crawling(url_jeju)\n",
    "rain_jeju = preprocessing(contents,jeju)\n",
    "\n",
    "contents = crawling(url_seogwipo)\n",
    "rain_seogwipo = preprocessing(contents,seogwipo)"
   ]
  },
  {
   "cell_type": "code",
   "execution_count": 75,
   "metadata": {},
   "outputs": [
    {
     "name": "stdout",
     "output_type": "stream",
     "text": [
      "DatetimeIndex(['2019-09-01 00:00:00+09:00', '2019-09-02 00:00:00+09:00',\n",
      "               '2019-09-03 00:00:00+09:00', '2019-09-04 00:00:00+09:00',\n",
      "               '2019-09-05 00:00:00+09:00', '2019-09-06 00:00:00+09:00',\n",
      "               '2019-09-07 00:00:00+09:00', '2019-09-08 00:00:00+09:00',\n",
      "               '2019-09-09 00:00:00+09:00', '2019-09-10 00:00:00+09:00',\n",
      "               '2019-09-11 00:00:00+09:00', '2019-09-12 00:00:00+09:00',\n",
      "               '2019-09-13 00:00:00+09:00', '2019-09-14 00:00:00+09:00',\n",
      "               '2019-09-15 00:00:00+09:00', '2019-09-16 00:00:00+09:00',\n",
      "               '2019-09-17 00:00:00+09:00', '2019-09-18 00:00:00+09:00',\n",
      "               '2019-09-19 00:00:00+09:00', '2019-09-20 00:00:00+09:00',\n",
      "               '2019-09-21 00:00:00+09:00', '2019-09-22 00:00:00+09:00',\n",
      "               '2019-09-23 00:00:00+09:00', '2019-09-24 00:00:00+09:00',\n",
      "               '2019-09-25 00:00:00+09:00', '2019-09-26 00:00:00+09:00',\n",
      "               '2019-09-27 00:00:00+09:00', '2019-09-28 00:00:00+09:00',\n",
      "               '2019-09-29 00:00:00+09:00', '2019-09-30 00:00:00+09:00'],\n",
      "              dtype='datetime64[ns, Asia/Seoul]', freq='D')\n"
     ]
    }
   ],
   "source": [
    "ts_ms = pd.date_range(start = '2019-09-01',     # 날짜 범위 시작\n",
    "                     end = None,                # 날짜 범위 끝\n",
    "                     periods = 30,               # 생성할 Timestamp 개수\n",
    "                     freq = 'D',               # 시간 간격(MS : 월의 시작일)\n",
    "                     tz = 'Asia/Seoul')         # 시간대(timezone)"
   ]
  },
  {
   "cell_type": "code",
   "execution_count": 77,
   "metadata": {},
   "outputs": [],
   "source": [
    "data['rain_jeju(mm)'] = rain_jeju\n",
    "data['rain_seogwipo(mm)'] = rain_seogwipo\n",
    "data['date'] = ts_ms"
   ]
  },
  {
   "cell_type": "code",
   "execution_count": 78,
   "metadata": {},
   "outputs": [
    {
     "data": {
      "text/html": [
       "<div>\n",
       "<style scoped>\n",
       "    .dataframe tbody tr th:only-of-type {\n",
       "        vertical-align: middle;\n",
       "    }\n",
       "\n",
       "    .dataframe tbody tr th {\n",
       "        vertical-align: top;\n",
       "    }\n",
       "\n",
       "    .dataframe thead th {\n",
       "        text-align: right;\n",
       "    }\n",
       "</style>\n",
       "<table border=\"1\" class=\"dataframe\">\n",
       "  <thead>\n",
       "    <tr style=\"text-align: right;\">\n",
       "      <th></th>\n",
       "      <th>date</th>\n",
       "      <th>rain_jeju(mm)</th>\n",
       "      <th>rain_seogwipo(mm)</th>\n",
       "    </tr>\n",
       "  </thead>\n",
       "  <tbody>\n",
       "    <tr>\n",
       "      <th>0</th>\n",
       "      <td>2019-09-01 00:00:00+09:00</td>\n",
       "      <td>26.1</td>\n",
       "      <td>18.7</td>\n",
       "    </tr>\n",
       "    <tr>\n",
       "      <th>1</th>\n",
       "      <td>2019-09-02 00:00:00+09:00</td>\n",
       "      <td>25.7</td>\n",
       "      <td>14.6</td>\n",
       "    </tr>\n",
       "    <tr>\n",
       "      <th>2</th>\n",
       "      <td>2019-09-03 00:00:00+09:00</td>\n",
       "      <td>13.9</td>\n",
       "      <td>9.5</td>\n",
       "    </tr>\n",
       "    <tr>\n",
       "      <th>3</th>\n",
       "      <td>2019-09-04 00:00:00+09:00</td>\n",
       "      <td>43.0</td>\n",
       "      <td>28.9</td>\n",
       "    </tr>\n",
       "    <tr>\n",
       "      <th>4</th>\n",
       "      <td>2019-09-05 00:00:00+09:00</td>\n",
       "      <td>7.0</td>\n",
       "      <td>15.7</td>\n",
       "    </tr>\n",
       "  </tbody>\n",
       "</table>\n",
       "</div>"
      ],
      "text/plain": [
       "                       date  rain_jeju(mm)  rain_seogwipo(mm)\n",
       "0 2019-09-01 00:00:00+09:00           26.1               18.7\n",
       "1 2019-09-02 00:00:00+09:00           25.7               14.6\n",
       "2 2019-09-03 00:00:00+09:00           13.9                9.5\n",
       "3 2019-09-04 00:00:00+09:00           43.0               28.9\n",
       "4 2019-09-05 00:00:00+09:00            7.0               15.7"
      ]
     },
     "execution_count": 78,
     "metadata": {},
     "output_type": "execute_result"
    }
   ],
   "source": [
    "data.head()"
   ]
  },
  {
   "cell_type": "code",
   "execution_count": null,
   "metadata": {},
   "outputs": [],
   "source": [
    "data.to_csv(\"rain_jeju.csv\",index = False)"
   ]
  }
 ],
 "metadata": {
  "kernelspec": {
   "display_name": "Python 3.8.3 ('base')",
   "language": "python",
   "name": "python3"
  },
  "language_info": {
   "codemirror_mode": {
    "name": "ipython",
    "version": 3
   },
   "file_extension": ".py",
   "mimetype": "text/x-python",
   "name": "python",
   "nbconvert_exporter": "python",
   "pygments_lexer": "ipython3",
   "version": "3.8.3"
  },
  "orig_nbformat": 4,
  "vscode": {
   "interpreter": {
    "hash": "dcfd41fce1e84fe5854a6f55d82c3c14a68dcbcbf7bbebc76d7a18baf5e9f28d"
   }
  }
 },
 "nbformat": 4,
 "nbformat_minor": 2
}
