{
 "cells": [
  {
   "cell_type": "markdown",
   "metadata": {},
   "source": [
    "# 날짜 범위 내의 제주도 강수량 크롤링\n",
    "- https://www.weather.go.kr/w/obs-climate/land/past-obs/obs-by-day.do?stn=189&yy=2019&mm=9&obs=1"
   ]
  },
  {
   "cell_type": "code",
   "execution_count": 43,
   "metadata": {},
   "outputs": [],
   "source": [
    "from bs4 import BeautifulSoup\n",
    "import pandas as pd\n",
    "import requests\n",
    "import re"
   ]
  },
  {
   "cell_type": "code",
   "execution_count": 16,
   "metadata": {},
   "outputs": [],
   "source": [
    "def crawling(url):\n",
    "    page = requests.get(url)\n",
    "\n",
    "    soup = BeautifulSoup(page.text, \"html.parser\")\n",
    "    # contents = soup.find_all('table','table-col table-cal')\n",
    "    contents = soup.find_all('span')\n",
    "\n",
    "    return contents"
   ]
  },
  {
   "cell_type": "code",
   "execution_count": 17,
   "metadata": {},
   "outputs": [],
   "source": [
    "def preprocessing(contents,result):\n",
    "    for i in contents:\n",
    "        if '일강수량:' in i.text:\n",
    "            value = i.text.split(':')[1]\n",
    "            if value == ' - ' or value == '0.0mm':\n",
    "                value = 0\n",
    "                result.append(value)\n",
    "                continue\n",
    "            result.append(float(value[:-2]))\n",
    "    return result"
   ]
  },
  {
   "cell_type": "code",
   "execution_count": 18,
   "metadata": {},
   "outputs": [],
   "source": [
    "def convert_url(loc,year,month):\n",
    "    if loc == 'jeju':\n",
    "        loc = 184\n",
    "    elif loc == 'seogwipo':\n",
    "        loc = 189\n",
    "\n",
    "    url = \"https://www.weather.go.kr/w/obs-climate/land/past-obs/obs-by-day.do?stn={}&yy={}&mm={}&obs=1\".format(loc,year,month)\n",
    "    return url    \n"
   ]
  },
  {
   "cell_type": "code",
   "execution_count": 62,
   "metadata": {},
   "outputs": [],
   "source": [
    "# url_jeju = \"https://www.weather.go.kr/w/obs-climate/land/past-obs/obs-by-day.do?stn=184&yy=2019&mm=9&obs=1\"\n",
    "# url_seogwipo = \"https://www.weather.go.kr/w/obs-climate/land/past-obs/obs-by-day.do?stn=189&yy=2019&mm=9&obs=1\""
   ]
  },
  {
   "cell_type": "code",
   "execution_count": 19,
   "metadata": {},
   "outputs": [],
   "source": [
    "url_jeju_9 = convert_url('jeju',2019,9)\n",
    "url_jeju_10 = convert_url('jeju',2019,10)\n",
    "\n",
    "url_seogwipo_9 = convert_url('seogwipo',2019,9)\n",
    "url_seogwipo_10 = convert_url('seogwipo',2019,10)"
   ]
  },
  {
   "cell_type": "code",
   "execution_count": 24,
   "metadata": {},
   "outputs": [],
   "source": [
    "jeju_9, seogwipo_9 = [],[]\n",
    "\n",
    "contents = crawling(url_jeju_9)\n",
    "rain_jeju_9 = preprocessing(contents,jeju_9)\n",
    "\n",
    "contents = crawling(url_seogwipo_9)\n",
    "rain_seogwipo_9 = preprocessing(contents,seogwipo_9)"
   ]
  },
  {
   "cell_type": "code",
   "execution_count": 25,
   "metadata": {},
   "outputs": [],
   "source": [
    "jeju_10, seogwipo_10 = [],[]\n",
    "\n",
    "contents = crawling(url_jeju_10)\n",
    "rain_jeju_10 = preprocessing(contents,jeju_10)\n",
    "\n",
    "contents = crawling(url_seogwipo_10)\n",
    "rain_seogwipo_10 = preprocessing(contents,seogwipo_10)"
   ]
  },
  {
   "cell_type": "code",
   "execution_count": 37,
   "metadata": {},
   "outputs": [],
   "source": [
    "ts_ms = pd.date_range(start = '2019-09-01',     # 날짜 범위 시작\n",
    "                     end = '2019-10-31',                # 날짜 범위 끝\n",
    "                    #  periods = 45,               # 생성할 Timestamp 개수\n",
    "                     freq = 'D',               # 시간 간격(MS : 월의 시작일)\n",
    "                     tz = 'Asia/Seoul')         # 시간대(timezone)"
   ]
  },
  {
   "cell_type": "code",
   "execution_count": 38,
   "metadata": {},
   "outputs": [
    {
     "data": {
      "text/plain": [
       "61"
      ]
     },
     "execution_count": 38,
     "metadata": {},
     "output_type": "execute_result"
    }
   ],
   "source": [
    "len(ts_ms)"
   ]
  },
  {
   "cell_type": "code",
   "execution_count": 47,
   "metadata": {},
   "outputs": [],
   "source": [
    "data = pd.DataFrame(columns = ['date','rain_jeju(mm)','rain_seogwipo(mm)'])\n",
    "\n",
    "data['date'] = ts_ms"
   ]
  },
  {
   "cell_type": "code",
   "execution_count": 48,
   "metadata": {},
   "outputs": [
    {
     "data": {
      "text/html": [
       "<div>\n",
       "<style scoped>\n",
       "    .dataframe tbody tr th:only-of-type {\n",
       "        vertical-align: middle;\n",
       "    }\n",
       "\n",
       "    .dataframe tbody tr th {\n",
       "        vertical-align: top;\n",
       "    }\n",
       "\n",
       "    .dataframe thead th {\n",
       "        text-align: right;\n",
       "    }\n",
       "</style>\n",
       "<table border=\"1\" class=\"dataframe\">\n",
       "  <thead>\n",
       "    <tr style=\"text-align: right;\">\n",
       "      <th></th>\n",
       "      <th>date</th>\n",
       "      <th>rain_jeju(mm)</th>\n",
       "      <th>rain_seogwipo(mm)</th>\n",
       "    </tr>\n",
       "  </thead>\n",
       "  <tbody>\n",
       "    <tr>\n",
       "      <th>0</th>\n",
       "      <td>2019-09-01 00:00:00+09:00</td>\n",
       "      <td>NaN</td>\n",
       "      <td>NaN</td>\n",
       "    </tr>\n",
       "    <tr>\n",
       "      <th>1</th>\n",
       "      <td>2019-09-02 00:00:00+09:00</td>\n",
       "      <td>NaN</td>\n",
       "      <td>NaN</td>\n",
       "    </tr>\n",
       "    <tr>\n",
       "      <th>2</th>\n",
       "      <td>2019-09-03 00:00:00+09:00</td>\n",
       "      <td>NaN</td>\n",
       "      <td>NaN</td>\n",
       "    </tr>\n",
       "    <tr>\n",
       "      <th>3</th>\n",
       "      <td>2019-09-04 00:00:00+09:00</td>\n",
       "      <td>NaN</td>\n",
       "      <td>NaN</td>\n",
       "    </tr>\n",
       "    <tr>\n",
       "      <th>4</th>\n",
       "      <td>2019-09-05 00:00:00+09:00</td>\n",
       "      <td>NaN</td>\n",
       "      <td>NaN</td>\n",
       "    </tr>\n",
       "  </tbody>\n",
       "</table>\n",
       "</div>"
      ],
      "text/plain": [
       "                       date rain_jeju(mm) rain_seogwipo(mm)\n",
       "0 2019-09-01 00:00:00+09:00           NaN               NaN\n",
       "1 2019-09-02 00:00:00+09:00           NaN               NaN\n",
       "2 2019-09-03 00:00:00+09:00           NaN               NaN\n",
       "3 2019-09-04 00:00:00+09:00           NaN               NaN\n",
       "4 2019-09-05 00:00:00+09:00           NaN               NaN"
      ]
     },
     "execution_count": 48,
     "metadata": {},
     "output_type": "execute_result"
    }
   ],
   "source": [
    "data.head()"
   ]
  },
  {
   "cell_type": "code",
   "execution_count": 49,
   "metadata": {},
   "outputs": [
    {
     "name": "stdout",
     "output_type": "stream",
     "text": [
      "61\n",
      "61\n"
     ]
    }
   ],
   "source": [
    "print(len(rain_jeju_9 + rain_jeju_10))\n",
    "print(len(rain_seogwipo_9 + rain_seogwipo_10))"
   ]
  },
  {
   "cell_type": "code",
   "execution_count": 50,
   "metadata": {},
   "outputs": [],
   "source": [
    "data['rain_jeju(mm)'] = rain_jeju_9 + rain_jeju_10\n",
    "data['rain_seogwipo(mm)'] = rain_seogwipo_9 + rain_seogwipo_10"
   ]
  },
  {
   "cell_type": "code",
   "execution_count": 51,
   "metadata": {},
   "outputs": [
    {
     "data": {
      "text/html": [
       "<div>\n",
       "<style scoped>\n",
       "    .dataframe tbody tr th:only-of-type {\n",
       "        vertical-align: middle;\n",
       "    }\n",
       "\n",
       "    .dataframe tbody tr th {\n",
       "        vertical-align: top;\n",
       "    }\n",
       "\n",
       "    .dataframe thead th {\n",
       "        text-align: right;\n",
       "    }\n",
       "</style>\n",
       "<table border=\"1\" class=\"dataframe\">\n",
       "  <thead>\n",
       "    <tr style=\"text-align: right;\">\n",
       "      <th></th>\n",
       "      <th>date</th>\n",
       "      <th>rain_jeju(mm)</th>\n",
       "      <th>rain_seogwipo(mm)</th>\n",
       "    </tr>\n",
       "  </thead>\n",
       "  <tbody>\n",
       "    <tr>\n",
       "      <th>0</th>\n",
       "      <td>2019-09-01 00:00:00+09:00</td>\n",
       "      <td>26.1</td>\n",
       "      <td>18.7</td>\n",
       "    </tr>\n",
       "    <tr>\n",
       "      <th>1</th>\n",
       "      <td>2019-09-02 00:00:00+09:00</td>\n",
       "      <td>25.7</td>\n",
       "      <td>14.6</td>\n",
       "    </tr>\n",
       "    <tr>\n",
       "      <th>2</th>\n",
       "      <td>2019-09-03 00:00:00+09:00</td>\n",
       "      <td>13.9</td>\n",
       "      <td>9.5</td>\n",
       "    </tr>\n",
       "    <tr>\n",
       "      <th>3</th>\n",
       "      <td>2019-09-04 00:00:00+09:00</td>\n",
       "      <td>43.0</td>\n",
       "      <td>28.9</td>\n",
       "    </tr>\n",
       "    <tr>\n",
       "      <th>4</th>\n",
       "      <td>2019-09-05 00:00:00+09:00</td>\n",
       "      <td>7.0</td>\n",
       "      <td>15.7</td>\n",
       "    </tr>\n",
       "  </tbody>\n",
       "</table>\n",
       "</div>"
      ],
      "text/plain": [
       "                       date  rain_jeju(mm)  rain_seogwipo(mm)\n",
       "0 2019-09-01 00:00:00+09:00           26.1               18.7\n",
       "1 2019-09-02 00:00:00+09:00           25.7               14.6\n",
       "2 2019-09-03 00:00:00+09:00           13.9                9.5\n",
       "3 2019-09-04 00:00:00+09:00           43.0               28.9\n",
       "4 2019-09-05 00:00:00+09:00            7.0               15.7"
      ]
     },
     "execution_count": 51,
     "metadata": {},
     "output_type": "execute_result"
    }
   ],
   "source": [
    "data.head()"
   ]
  },
  {
   "cell_type": "code",
   "execution_count": 52,
   "metadata": {},
   "outputs": [],
   "source": [
    "data.to_csv(\"rain_jeju_9&10.csv\",index = False)"
   ]
  },
  {
   "cell_type": "code",
   "execution_count": null,
   "metadata": {},
   "outputs": [],
   "source": []
  }
 ],
 "metadata": {
  "kernelspec": {
   "display_name": "Python 3.8.3 ('base')",
   "language": "python",
   "name": "python3"
  },
  "language_info": {
   "codemirror_mode": {
    "name": "ipython",
    "version": 3
   },
   "file_extension": ".py",
   "mimetype": "text/x-python",
   "name": "python",
   "nbconvert_exporter": "python",
   "pygments_lexer": "ipython3",
   "version": "3.8.3"
  },
  "orig_nbformat": 4,
  "vscode": {
   "interpreter": {
    "hash": "dcfd41fce1e84fe5854a6f55d82c3c14a68dcbcbf7bbebc76d7a18baf5e9f28d"
   }
  }
 },
 "nbformat": 4,
 "nbformat_minor": 2
}
